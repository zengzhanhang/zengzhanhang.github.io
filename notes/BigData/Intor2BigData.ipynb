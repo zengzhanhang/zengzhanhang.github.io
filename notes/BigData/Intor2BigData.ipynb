{
 "cells": [
  {
   "cell_type": "markdown",
   "metadata": {},
   "source": [
    "# 大数据技术原理与技术"
   ]
  },
  {
   "attachments": {},
   "cell_type": "markdown",
   "metadata": {},
   "source": [
    "## 大数据概述\n",
    "\n",
    "### 大数据时代\n",
    "\n",
    "**第三次信息化浪潮：**\n",
    "      \n",
    "| <div style=\"width:150px\">信息化浪潮</div> |  <div style=\"width:120px\">发生时间</div>  |      标志      | <div style=\"width:120px\">解决的问题</div> |                   代表企业                   |\n",
    "|:---------:|:---------:|:--------------:|:---------:|:-------------------------------------------:|\n",
    "| 第一次浪潮 | 1980年前后 |    个人计算    |  信息处理  |     Intel、AMD、IBM、Apple、Microsoft、联想、<br>戴尔、惠普等    |\n",
    "| 第二次浪潮 | 1995年前后 |     互联网     |  信息传输  |              雅虎、谷歌、阿里巴巴、百度、腾讯等              |\n",
    "| 第三次浪潮 | 2010年前后 | 物联网、云计算和大数据 | 信息爆炸 | 亚马逊、谷歌、IBM、VMWare、Palantir、<br>Hortonworks、Cloudera、阿里云等 |\n",
    "\n",
    "根据IBM前首席执行官 Louis Gerstner 的观点，IT领域每隔十五年就会迎来一次重大变革\n",
    "\n",
    "**信息科技为大数据时代提供技术支撑：**\n",
    "- 存储设备容量不断增加\n",
    "- CPU处理能力大幅提升\n",
    "- 网络带宽不断增加\n",
    "\n",
    "**数据产生方式的变革促成大数据时代的来临：**\n",
    "\n",
    "<img src=\"assets/ch1/数据产生方式的变革.png\" alt=\"数据产生方式的变革\" title=\"数据产生方式的变革\" style=\"width: 75%;\"/>\n",
    "<div class=\"has-text-centered is-size-6 has-text-grey caption\" style=\"text-align:center; color:gray\">数据产生方式的变革</div>\n",
    "\n",
    "### 大数据的概念 - 4V\n",
    "\n",
    "- Volume: 数据量大\n",
    "- Variety: 数据类型繁多\n",
    "- Velocity: 处理速度快\n",
    "- Value: 价值密度低\n",
    "\n",
    "### 大数据的影响\n",
    "\n",
    "**科学研究上：** 图灵奖获得者、著名数据库专家Jim Gray 博士观察并总结人类自古以来，在科学研究上，先后历经了**实验**、**理论**、**计算**和**数据**四种范式。\n",
    "\n",
    "<img src=\"assets/ch1/科学研究的4种范式.png\" alt=\"科学研究的4种范式\" title=\"科学研究的4种范式\" style=\"width: 75%;\"/>\n",
    "<div class=\"has-text-centered is-size-6 has-text-grey caption\" style=\"text-align:center; color:gray\">科学研究的4种范式</div>\n",
    "\n",
    "**思维方式上：**\n",
    "- **全样而非抽样**: 以前科学分析通常采取抽样方式，如今在大数据技术的支持下，分析可以针对全集数据进行。\n",
    "- **效率而非精确**: 以前由于抽样仅是针对样本的分析，抽样分析上的结果应用到全集数据后，抽样分析上的小误差可能会被放大；大数据常常要求‘秒级响应’，否则丧失数据价值，因此更关注效率。\n",
    "- **相关而非因果**: 大数据往往只能反映事物的相关性。"
   ]
  },
  {
   "cell_type": "markdown",
   "metadata": {},
   "source": [
    "### 数据类型\n",
    "- **结构化数据：** 是指可以存储在数据库里，可以用二维表结果来逻辑表达实现的数据。\n",
    "- **非结构化数据：** 不方便用二维表结果来逻辑表来表现的数据。包括所有格式的办公文档、文本、图片、XML、HTML、各类报表、图像、音频、视频信息等等。\n",
    "- **半结构化数据：** 介于结构化数据和非结构化数据之间的数据。HTML文档就属于半结构数据。\n",
    "\n",
    "### 大数据关键技术\n",
    "\n",
    "<div class=\"has-text-centered is-size-6 has-text-grey caption\" style=\"text-align:center; color:black\">表：大数据技术的不同层面及其功能</div>\n",
    "\n",
    "|    <div style=\"width:150px\">技术层面</div>    |                功能                      |\n",
    "|:--------------:|:----------------------------------------------------------------:|\n",
    "|    数据采集    | 利用ETL工具将分布的、异构数据源中的数据如关系数据、平面数据文件等，抽取到临时中间层后进行清洗、转换、集成，最后加载到数据仓库或数据集市中，成为联机分析处理、数据挖掘的基础；或者也可以把实时采集的数据作为流计算系统的输入，进行实时处理分析 |\n",
    "| 数据存储和管理 |                                                            利用分布式文件系统、数据仓库、关系数据库、NoSQL数据库、云数据库等，实现对结构化、半结构化和非结构化海量数据的存储和管理                                                            |\n",
    "| 数据处理与分析 |                                              利用分布式并行编程模型和计算框架，结合机器学习和数据挖掘算法，实现对海量数据的处理和分析；对分析结果进行可视化呈现，帮助人们更好地理解数据、分析数据                                             |\n",
    "| 数据隐私和安全 |                                                               在从大数据中挖掘潜在的巨大商业价值和学术价值的同时，构建隐私数据保护体系和数据安全体系，有效保护个人隐私和数据安全                                                              |\n",
    "\n",
    "#### **两大核心技术**\n",
    "- **分布式存储**\n",
    "    - GFS/HDFS\n",
    "    - BigTable/HBase\n",
    "    - NoSQL (键值、列族、图形、文档数据库)\n",
    "    - NewSQL (如：SQL Azure)\n",
    "    \n",
    "- **分布式计算**\n",
    "    - MapReduce\n",
    "    \n",
    "### 大数据计算模式\n",
    "\n",
    "| <div style=\"width:150px\">大数据计算模式</div> \t|            解决问题            \t|                                   代表产品                                  \t|\n",
    "|:--------------:\t|:------------------------------:\t|:---------------------------------------------------------------------------:\t|\n",
    "|   批处理计算   \t|    针对大规模数据的批量处理    \t|                              MapReduce、Spark等                             \t|\n",
    "|     流计算     \t|      针对流数据的实时计算      \t| Storm、S4、Flume、Streams、Puma、DStream、Super Mario、银河流数据处理平台等 \t|\n",
    "|     图计算     \t|   针对大规模图结构数据的处理   \t|            Pregel、GraphX、Giraph、PowerGraph、Hama、GoldenOrb等            \t|\n",
    "|  查询分析计算  \t| 大规模数据的存储管理和查询分析 \t|                      Dremel、Hive、Cassandra、Impala等                      \t|"
   ]
  },
  {
   "cell_type": "markdown",
   "metadata": {},
   "source": [
    "### 大数据产业\n",
    "- 大数据产业是指一切与支撑大数据组织管理和价值发现相关的企业经济活动的集合\n",
    "\n",
    "| <div style=\"width:150px\">产业链环节</div> \t| 包含内容 \t|\n",
    "|:------------:\t|:-------------------------------------:\t|\n",
    "| IT基础设施层 \t| 包括提供硬件、软件、网络等基础设施以及提供咨询、规划和系统集成服务的企业，比如，提供数据中心解决方案的IBM、惠普和戴尔等，提供存储解决方案的EMC，提供虚拟化管理软件的微软、思杰、SUN、Redhat等 \t|\n",
    "| 数据源层 \t| 大数据生态圈里的数据提供者，是生物大数据（生物信息学领域的各类研究机构）、交通大数据（交通主管部门）、医疗大数据（各大医院、体检机构）、政务大数据（政府部门）、电商大数据（淘宝、天猫、苏宁云商、京东等电商）、社交网络大数据（微博、微信、人人网等）、搜索引擎大数据（百度、谷歌等）等各种数据的来源 \t|\n",
    "| 数据管理层 \t| 包括数据抽取、转换、存储和管理等服务的各类企业或产品，比如分布式文件系统（如Hadoop的HDFS和谷歌的GFS）、ETL工具（Informatica、Datastage、Kettle等）、数据库和数据仓库（Oracle、MySQL、SQL Server、HBase、GreenPlum等） \t|\n",
    "| 数据分析层 \t| 包括提供分布式计算、数据挖掘、统计分析等服务的各类企业或产品，比如，分布式计算框架MapReduce、统计分析软件SPSS和SAS、数据挖掘工具Weka、数据可视化工具Tableau、BI工具（MicroStrategy、Cognos、BO）等等 \t|\n",
    "| 数据平台层 \t| 包括提供数据分享平台、数据分析平台、数据租售平台等服务的企业或产品，比如阿里巴巴、谷歌、中国电信、百度等 \t|\n",
    "| 数据应用层 \t| 提供智能交通、智慧医疗、智能物流、智能电网等行业应用的企业、机构或政府部门，比如交通主管部门、各大医疗机构、菜鸟网络、国家电网等 \t|"
   ]
  },
  {
   "cell_type": "markdown",
   "metadata": {},
   "source": [
    "## 大数据处理框架 Hadoop\n",
    "\n",
    "### Hadoop 简介\n",
    "\n",
    "<img src=\"assets/ch2/hadoop-logo.png\" alt=\"Hadoop Logo\" title=\"Hadoop Logo\" style=\"width: 35%;\"/>\n",
    "<div class=\"has-text-centered is-size-6 has-text-grey caption\" style=\"text-align:center; color:gray\">Hadoop Logo</div>\n",
    "\n",
    "- Hadoop是Apache软件基金会旗下的一个开源分布式计算平台，为用户提供了系统底层细节透明的分布式基础架构\n",
    "- Hadoop是基于Java语言开发的，具有很好的跨平台特性，并且可以部署在廉价的计算机集群中\n",
    "- Hadoop的核心是分布式文件系统HDFS（Hadoop Distributed File System）和MapReduce\n",
    "- Hadoop被公认为行业大数据标准开源软件，在分布式环境下提供了海量数据的处理能力\n",
    "\n",
    "**特性:**\n",
    "\n",
    "- **高可靠性**。采用冗余数据存储方式，即使一个副本发生故障，其他副本也可以保证正常对外提供服务。\n",
    "- **高效性**。 作为并行分布式计算平台，Hadoop采用分布式存储和分布式处理两大核心技术，能够高效地处理PB级数据。\n",
    "- **高可扩展性**。 Hadoop的设计目标是可以高效稳定的运行在廉价的计算机集群上，可以扩展到数以千计的计算机节点上。\n",
    "- **高容错性**。 采用冗余数据存储方式，自动保存数据的多个副本，并且能够自动将失败的任务进行重新分配。\n",
    "- **成本低**。 采用廉价的计算机集群。\n",
    "- **运行在Linux平台上**。 Hadoop基于Java语言开发，可以较好的运行在Linux平台上。\n",
    "- **支持多种编程语言**。 Hadoop上的应用程序也可以使用其它语言编写，如C++。"
   ]
  },
  {
   "cell_type": "code",
   "execution_count": null,
   "metadata": {},
   "outputs": [],
   "source": []
  }
 ],
 "metadata": {
  "kernelspec": {
   "display_name": "Python 3",
   "language": "python",
   "name": "python3"
  },
  "language_info": {
   "codemirror_mode": {
    "name": "ipython",
    "version": 3
   },
   "file_extension": ".py",
   "mimetype": "text/x-python",
   "name": "python",
   "nbconvert_exporter": "python",
   "pygments_lexer": "ipython3",
   "version": "3.7.6"
  },
  "toc": {
   "base_numbering": 1,
   "nav_menu": {},
   "number_sections": true,
   "sideBar": true,
   "skip_h1_title": true,
   "title_cell": "Table of Contents",
   "title_sidebar": "Contents",
   "toc_cell": false,
   "toc_position": {},
   "toc_section_display": true,
   "toc_window_display": true
  }
 },
 "nbformat": 4,
 "nbformat_minor": 4
}
