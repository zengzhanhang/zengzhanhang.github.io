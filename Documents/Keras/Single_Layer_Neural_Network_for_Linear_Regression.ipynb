{
 "cells": [
  {
   "cell_type": "code",
   "execution_count": 1,
   "metadata": {},
   "outputs": [],
   "source": [
    "import numpy as np\n",
    "import tensorflow as tf\n",
    "from tensorflow.keras import layers\n",
    "import matplotlib.pyplot as plt\n",
    "plt.style.use('seaborn')"
   ]
  },
  {
   "cell_type": "code",
   "execution_count": 2,
   "metadata": {},
   "outputs": [
    {
     "data": {
      "image/png": "[encoded data removed]",
      "text/plain": [
       "<Figure size 432x288 with 1 Axes>"
      ]
     },
     "metadata": {
      "needs_background": "light"
     },
     "output_type": "display_data"
    }
   ],
   "source": [
    "# create data\n",
    "X = np.linspace(-1, 1, 200)\n",
    "np.random.shuffle(X) #randomize the data\n",
    "Y = 2*X + 10 + np.random.normal(0, 0.05, (200,))\n",
    "\n",
    "# plot data\n",
    "plt.scatter(X, Y)\n",
    "plt.show()"
   ]
  },
  {
   "cell_type": "code",
   "execution_count": 3,
   "metadata": {},
   "outputs": [],
   "source": [
    "# Split off the data\n",
    "X_train, Y_train = X[:160].reshape((160,1)), Y[:160]\n",
    "X_test, Y_test = X[160:].reshape((40,1)), Y[160:]"
   ]
  },
  {
   "cell_type": "code",
   "execution_count": 5,
   "metadata": {
    "scrolled": true
   },
   "outputs": [
    {
     "name": "stdout",
     "output_type": "stream",
     "text": [
      "=================== Training ===================\n",
      "Epoch 1/100\n",
      "160/160 [==============================] - 0s 746us/sample - loss: 95.8428\n",
      "Epoch 2/100\n",
      "160/160 [==============================] - 0s 25us/sample - loss: 78.6160\n",
      "Epoch 3/100\n",
      "160/160 [==============================] - 0s 25us/sample - loss: 64.5319\n",
      "Epoch 4/100\n",
      "160/160 [==============================] - 0s 50us/sample - loss: 53.0057\n",
      "Epoch 5/100\n",
      "160/160 [==============================] - 0s 25us/sample - loss: 43.5562\n",
      "Epoch 6/100\n",
      "160/160 [==============================] - 0s 25us/sample - loss: 35.8257\n",
      "Epoch 7/100\n",
      "160/160 [==============================] - 0s 32us/sample - loss: 29.5026\n",
      "Epoch 8/100\n",
      "160/160 [==============================] - 0s 25us/sample - loss: 24.3067\n",
      "Epoch 9/100\n",
      "160/160 [==============================] - 0s 50us/sample - loss: 20.0605\n",
      "Epoch 10/100\n",
      "160/160 [==============================] - 0s 25us/sample - loss: 16.5692\n",
      "Epoch 11/100\n",
      "160/160 [==============================] - 0s 13us/sample - loss: 13.7102\n",
      "Epoch 12/100\n",
      "160/160 [==============================] - 0s 25us/sample - loss: 11.3618\n",
      "Epoch 13/100\n",
      "160/160 [==============================] - 0s 36us/sample - loss: 9.4329\n",
      "Epoch 14/100\n",
      "160/160 [==============================] - 0s 25us/sample - loss: 7.8503\n",
      "Epoch 15/100\n",
      "160/160 [==============================] - 0s 50us/sample - loss: 6.5393\n",
      "Epoch 16/100\n",
      "160/160 [==============================] - 0s 25us/sample - loss: 5.4647\n",
      "Epoch 17/100\n",
      "160/160 [==============================] - 0s 40us/sample - loss: 4.5777\n",
      "Epoch 18/100\n",
      "160/160 [==============================] - 0s 50us/sample - loss: 3.8462\n",
      "Epoch 19/100\n",
      "160/160 [==============================] - 0s 31us/sample - loss: 3.2422\n",
      "Epoch 20/100\n",
      "160/160 [==============================] - 0s 25us/sample - loss: 2.7423\n",
      "Epoch 21/100\n",
      "160/160 [==============================] - 0s 50us/sample - loss: 2.3273\n",
      "Epoch 22/100\n",
      "160/160 [==============================] - 0s 25us/sample - loss: 1.9826\n",
      "Epoch 23/100\n",
      "160/160 [==============================] - 0s 50us/sample - loss: 1.6954\n",
      "Epoch 24/100\n",
      "160/160 [==============================] - 0s 50us/sample - loss: 1.4555\n",
      "Epoch 25/100\n",
      "160/160 [==============================] - 0s 25us/sample - loss: 1.2558\n",
      "Epoch 26/100\n",
      "160/160 [==============================] - 0s 53us/sample - loss: 1.0882\n",
      "Epoch 27/100\n",
      "160/160 [==============================] - 0s 25us/sample - loss: 0.9466\n",
      "Epoch 28/100\n",
      "160/160 [==============================] - 0s 50us/sample - loss: 0.8277\n",
      "Epoch 29/100\n",
      "160/160 [==============================] - 0s 25us/sample - loss: 0.7267\n",
      "Epoch 30/100\n",
      "160/160 [==============================] - 0s 50us/sample - loss: 0.6410\n",
      "Epoch 31/100\n",
      "160/160 [==============================] - 0s 25us/sample - loss: 0.5682\n",
      "Epoch 32/100\n",
      "160/160 [==============================] - 0s 50us/sample - loss: 0.5057\n",
      "Epoch 33/100\n",
      "160/160 [==============================] - 0s 25us/sample - loss: 0.4519\n",
      "Epoch 34/100\n",
      "160/160 [==============================] - 0s 51us/sample - loss: 0.4055\n",
      "Epoch 35/100\n",
      "160/160 [==============================] - 0s 25us/sample - loss: 0.3650\n",
      "Epoch 36/100\n",
      "160/160 [==============================] - 0s 50us/sample - loss: 0.3299\n",
      "Epoch 37/100\n",
      "160/160 [==============================] - 0s 25us/sample - loss: 0.2992\n",
      "Epoch 38/100\n",
      "160/160 [==============================] - 0s 50us/sample - loss: 0.2721\n",
      "Epoch 39/100\n",
      "160/160 [==============================] - 0s 25us/sample - loss: 0.2484\n",
      "Epoch 40/100\n",
      "160/160 [==============================] - 0s 50us/sample - loss: 0.2270\n",
      "Epoch 41/100\n",
      "160/160 [==============================] - 0s 25us/sample - loss: 0.2082\n",
      "Epoch 42/100\n",
      "160/160 [==============================] - 0s 25us/sample - loss: 0.1916\n",
      "Epoch 43/100\n",
      "160/160 [==============================] - 0s 50us/sample - loss: 0.1763\n",
      "Epoch 44/100\n",
      "160/160 [==============================] - 0s 25us/sample - loss: 0.1626\n",
      "Epoch 45/100\n",
      "160/160 [==============================] - 0s 50us/sample - loss: 0.1505\n",
      "Epoch 46/100\n",
      "160/160 [==============================] - 0s 25us/sample - loss: 0.1391\n",
      "Epoch 47/100\n",
      "160/160 [==============================] - 0s 25us/sample - loss: 0.1289\n",
      "Epoch 48/100\n",
      "160/160 [==============================] - 0s 50us/sample - loss: 0.1196\n",
      "Epoch 49/100\n",
      "160/160 [==============================] - 0s 25us/sample - loss: 0.1111\n",
      "Epoch 50/100\n",
      "160/160 [==============================] - 0s 39us/sample - loss: 0.1033\n",
      "Epoch 51/100\n",
      "160/160 [==============================] - 0s 25us/sample - loss: 0.0962\n",
      "Epoch 52/100\n",
      "160/160 [==============================] - 0s 50us/sample - loss: 0.0895\n",
      "Epoch 53/100\n",
      "160/160 [==============================] - 0s 34us/sample - loss: 0.0835\n",
      "Epoch 54/100\n",
      "160/160 [==============================] - 0s 50us/sample - loss: 0.0779\n",
      "Epoch 55/100\n",
      "160/160 [==============================] - 0s 25us/sample - loss: 0.0727\n",
      "Epoch 56/100\n",
      "160/160 [==============================] - 0s 50us/sample - loss: 0.0678\n",
      "Epoch 57/100\n",
      "160/160 [==============================] - 0s 25us/sample - loss: 0.0634\n",
      "Epoch 58/100\n",
      "160/160 [==============================] - 0s 50us/sample - loss: 0.0592\n",
      "Epoch 59/100\n",
      "160/160 [==============================] - 0s 50us/sample - loss: 0.0554\n",
      "Epoch 60/100\n",
      "160/160 [==============================] - 0s 25us/sample - loss: 0.0518\n",
      "Epoch 61/100\n",
      "160/160 [==============================] - 0s 50us/sample - loss: 0.0485\n",
      "Epoch 62/100\n",
      "160/160 [==============================] - 0s 50us/sample - loss: 0.0454\n",
      "Epoch 63/100\n",
      "160/160 [==============================] - 0s 25us/sample - loss: 0.0426\n",
      "Epoch 64/100\n",
      "160/160 [==============================] - 0s 50us/sample - loss: 0.0399\n",
      "Epoch 65/100\n",
      "160/160 [==============================] - 0s 25us/sample - loss: 0.0374\n",
      "Epoch 66/100\n",
      "160/160 [==============================] - 0s 50us/sample - loss: 0.0351\n",
      "Epoch 67/100\n",
      "160/160 [==============================] - 0s 25us/sample - loss: 0.0329\n",
      "Epoch 68/100\n",
      "160/160 [==============================] - 0s 50us/sample - loss: 0.0309\n",
      "Epoch 69/100\n",
      "160/160 [==============================] - 0s 25us/sample - loss: 0.0290\n",
      "Epoch 70/100\n",
      "160/160 [==============================] - 0s 50us/sample - loss: 0.0273\n",
      "Epoch 71/100\n",
      "160/160 [==============================] - 0s 50us/sample - loss: 0.0256\n",
      "Epoch 72/100\n",
      "160/160 [==============================] - 0s 25us/sample - loss: 0.0241\n",
      "Epoch 73/100\n",
      "160/160 [==============================] - 0s 25us/sample - loss: 0.0226\n",
      "Epoch 74/100\n",
      "160/160 [==============================] - 0s 25us/sample - loss: 0.0213\n",
      "Epoch 75/100\n",
      "160/160 [==============================] - 0s 50us/sample - loss: 0.0200\n",
      "Epoch 76/100\n",
      "160/160 [==============================] - 0s 55us/sample - loss: 0.0189\n",
      "Epoch 77/100\n",
      "160/160 [==============================] - 0s 25us/sample - loss: 0.0178\n",
      "Epoch 78/100\n",
      "160/160 [==============================] - 0s 50us/sample - loss: 0.0168\n",
      "Epoch 79/100\n",
      "160/160 [==============================] - 0s 50us/sample - loss: 0.0158\n",
      "Epoch 80/100\n",
      "160/160 [==============================] - 0s 25us/sample - loss: 0.0149\n",
      "Epoch 81/100\n",
      "160/160 [==============================] - 0s 37us/sample - loss: 0.0141\n",
      "Epoch 82/100\n",
      "160/160 [==============================] - 0s 25us/sample - loss: 0.0133\n",
      "Epoch 83/100\n",
      "160/160 [==============================] - 0s 50us/sample - loss: 0.0126\n",
      "Epoch 84/100\n",
      "160/160 [==============================] - 0s 25us/sample - loss: 0.0119\n",
      "Epoch 85/100\n",
      "160/160 [==============================] - 0s 10us/sample - loss: 0.0113\n",
      "Epoch 86/100\n",
      "160/160 [==============================] - 0s 25us/sample - loss: 0.0107\n",
      "Epoch 87/100\n",
      "160/160 [==============================] - 0s 50us/sample - loss: 0.0102\n",
      "Epoch 88/100\n",
      "160/160 [==============================] - 0s 25us/sample - loss: 0.0096\n",
      "Epoch 89/100\n",
      "160/160 [==============================] - 0s 50us/sample - loss: 0.0092\n",
      "Epoch 90/100\n",
      "160/160 [==============================] - 0s 25us/sample - loss: 0.0087\n",
      "Epoch 91/100\n",
      "160/160 [==============================] - 0s 50us/sample - loss: 0.0083\n",
      "Epoch 92/100\n",
      "160/160 [==============================] - 0s 25us/sample - loss: 0.0079\n",
      "Epoch 93/100\n",
      "160/160 [==============================] - 0s 50us/sample - loss: 0.0075\n",
      "Epoch 94/100\n",
      "160/160 [==============================] - 0s 50us/sample - loss: 0.0072\n",
      "Epoch 95/100\n"
     ]
    },
    {
     "name": "stdout",
     "output_type": "stream",
     "text": [
      "160/160 [==============================] - 0s 25us/sample - loss: 0.0069\n",
      "Epoch 96/100\n",
      "160/160 [==============================] - 0s 45us/sample - loss: 0.0066\n",
      "Epoch 97/100\n",
      "160/160 [==============================] - 0s 50us/sample - loss: 0.0063\n",
      "Epoch 98/100\n",
      "160/160 [==============================] - 0s 29us/sample - loss: 0.0060\n",
      "Epoch 99/100\n",
      "160/160 [==============================] - 0s 50us/sample - loss: 0.0058\n",
      "Epoch 100/100\n",
      "160/160 [==============================] - 0s 25us/sample - loss: 0.0056\n"
     ]
    },
    {
     "data": {
      "text/plain": [
       "<tensorflow.python.keras.callbacks.History at 0x16e6c0d6748>"
      ]
     },
     "execution_count": 5,
     "metadata": {},
     "output_type": "execute_result"
    }
   ],
   "source": [
    "# bulid a neural network from the 1st layer to the last layer\n",
    "model = tf.keras.models.Sequential([\n",
    "    layers.Dense(1, activation = None, use_bias = True)\n",
    "])\n",
    "\n",
    "# choose loss function and optimisation method\n",
    "model.compile(optimizer='sgd', loss='mse')\n",
    "\n",
    "# training\n",
    "print(\"=================== Training ===================\")\n",
    "model.fit(X_train, Y_train, epochs=100)"
   ]
  },
  {
   "cell_type": "code",
   "execution_count": 6,
   "metadata": {},
   "outputs": [
    {
     "name": "stdout",
     "output_type": "stream",
     "text": [
      "=================== Evaluation ===================\n",
      "40/40 [==============================] - 0s 1ms/sample - loss: 0.0057\n",
      "Weights= [[1.9032481]] \n",
      "biases= [9.999699]\n"
     ]
    }
   ],
   "source": [
    "# evaluation\n",
    "print(\"=================== Evaluation ===================\")\n",
    "cost = model.evaluate(X_test, Y_test)\n",
    "W, b = model.layers[0].get_weights()\n",
    "print(\"Weights=\", W, \"\\nbiases=\", b)"
   ]
  },
  {
   "cell_type": "code",
   "execution_count": 7,
   "metadata": {},
   "outputs": [
    {
     "data": {
      "image/png": "[encoded data removed]",
      "text/plain": [
       "<Figure size 432x288 with 1 Axes>"
      ]
     },
     "metadata": {
      "needs_background": "light"
     },
     "output_type": "display_data"
    }
   ],
   "source": [
    "# ploting the prediction function\n",
    "Y_pred = model.predict(X_test)\n",
    "plt.scatter(X_test, Y_test)\n",
    "plt.plot(X_test, Y_pred)\n",
    "plt.show()"
   ]
  },
  {
   "cell_type": "code",
   "execution_count": null,
   "metadata": {},
   "outputs": [],
   "source": []
  }
 ],
 "metadata": {
  "kernelspec": {
   "display_name": "Python 3",
   "language": "python",
   "name": "python3"
  },
  "language_info": {
   "codemirror_mode": {
    "name": "ipython",
    "version": 3
   },
   "file_extension": ".py",
   "mimetype": "text/x-python",
   "name": "python",
   "nbconvert_exporter": "python",
   "pygments_lexer": "ipython3",
   "version": "3.7.1"
  }
 },
 "nbformat": 4,
 "nbformat_minor": 2
}
