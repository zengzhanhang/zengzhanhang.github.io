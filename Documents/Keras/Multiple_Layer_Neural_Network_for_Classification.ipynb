{
 "cells": [
  {
   "cell_type": "code",
   "execution_count": 1,
   "metadata": {},
   "outputs": [],
   "source": [
    "import numpy as np\n",
    "import matplotlib.pyplot as plt\n",
    "import cv2 as cv\n",
    "import tensorflow as tf\n",
    "from tensorflow.keras import layers\n",
    "from tensorflow.keras import utils\n",
    "from tensorflow.keras import optimizers"
   ]
  },
  {
   "cell_type": "code",
   "execution_count": 2,
   "metadata": {},
   "outputs": [],
   "source": [
    "# load data\n",
    "mnist = tf.keras.datasets.mnist\n",
    "(x_train, y_train),(x_test, y_test) = mnist.load_data()\n",
    "\n",
    "# prepare data\n",
    "x_train, x_test = x_train / 255.0, x_test / 255.0 # normalize\n",
    "y_train_oh = utils.to_categorical(y_train, num_classes=10) # one-hot encoding\n",
    "y_test_oh = utils.to_categorical(y_test, num_classes=10) # one-hot encoding"
   ]
  },
  {
   "cell_type": "code",
   "execution_count": 3,
   "metadata": {},
   "outputs": [
    {
     "data": {
      "image/png": "[encoded data removed]",
      "text/plain": [
       "<Figure size 432x288 with 1 Axes>"
      ]
     },
     "metadata": {
      "needs_background": "light"
     },
     "output_type": "display_data"
    }
   ],
   "source": [
    "# plot one instance\n",
    "plt.title(\"The label is '{label}'\".format(label=y_train[888]))\n",
    "plt.imshow(x_train[888], cmap='Greys')\n",
    "plt.show()"
   ]
  },
  {
   "cell_type": "code",
   "execution_count": 5,
   "metadata": {},
   "outputs": [
    {
     "name": "stdout",
     "output_type": "stream",
     "text": [
      "Epoch 1/5\n",
      "60000/60000 [==============================] - 7s 120us/sample - loss: 0.2078 - acc: 0.9385\n",
      "Epoch 2/5\n",
      "60000/60000 [==============================] - 7s 117us/sample - loss: 0.0870 - acc: 0.9730\n",
      "Epoch 3/5\n",
      "60000/60000 [==============================] - 7s 111us/sample - loss: 0.0590 - acc: 0.9812\n",
      "Epoch 4/5\n",
      "60000/60000 [==============================] - 6s 106us/sample - loss: 0.0445 - acc: 0.9864\n",
      "Epoch 5/5\n",
      "60000/60000 [==============================] - 6s 97us/sample - loss: 0.0347 - acc: 0.9891\n",
      "10000/10000 [==============================] - ETA: 0s - loss: 0.0712 - acc: 0.980 - 0s 36us/sample - loss: 0.0679 - acc: 0.9817\n"
     ]
    },
    {
     "data": {
      "text/plain": [
       "[0.06789264299917268, 0.9817]"
      ]
     },
     "execution_count": 5,
     "metadata": {},
     "output_type": "execute_result"
    }
   ],
   "source": [
    "model = tf.keras.models.Sequential([\n",
    "    layers.Flatten(input_shape=(28, 28)),\n",
    "    layers.Dense(256, activation='relu'),\n",
    "    layers.Dense(128, activation='relu'),\n",
    "    layers.Dense(10, activation='softmax')\n",
    "])\n",
    "\n",
    "# If we want to define the hyperparameters of optimizer\n",
    "adam = optimizers.Adam(lr=0.001, beta_1=0.9, beta_2=0.999,\n",
    "                       epsilon=None, decay=0.0, amsgrad=False) # I just copy the default hyperparameters here\n",
    "\n",
    "model.compile(optimizer='adam',\n",
    "             loss='categorical_crossentropy',\n",
    "             metrics=['accuracy'])\n",
    "\n",
    "model.fit(x_train, y_train_oh, epochs=5, batch_size=None) # If unspecified, batch_size will default to 32.\n",
    "model.evaluate(x_test, y_test_oh)"
   ]
  }
 ],
 "metadata": {
  "kernelspec": {
   "display_name": "Python 3",
   "language": "python",
   "name": "python3"
  },
  "language_info": {
   "codemirror_mode": {
    "name": "ipython",
    "version": 3
   },
   "file_extension": ".py",
   "mimetype": "text/x-python",
   "name": "python",
   "nbconvert_exporter": "python",
   "pygments_lexer": "ipython3",
   "version": "3.7.1"
  }
 },
 "nbformat": 4,
 "nbformat_minor": 2
}
