{
 "cells": [
  {
   "cell_type": "code",
   "execution_count": 1,
   "metadata": {},
   "outputs": [],
   "source": [
    "import numpy as np\n",
    "import matplotlib.pyplot as plt\n",
    "import cv2 as cv\n",
    "import tensorflow as tf\n",
    "from tensorflow.keras import layers\n",
    "from tensorflow.keras import optimizers\n",
    "from tensorflow.keras import utils"
   ]
  },
  {
   "cell_type": "code",
   "execution_count": 2,
   "metadata": {},
   "outputs": [],
   "source": [
    "# load data\n",
    "mnist = tf.keras.datasets.mnist\n",
    "(x_train, y_train),(x_test, y_test) = mnist.load_data()\n",
    "\n",
    "# prepare\n",
    "x_train, x_test = x_train / 255.0, x_test / 255.0 # normalize\n",
    "x_train = x_train.reshape(-1, 1, 28, 28)\n",
    "x_test = x_test.reshape(-1, 1, 28, 28)\n",
    "y_train_oh = utils.to_categorical(y_train, num_classes = 10) # one-hot encoding\n",
    "y_test_oh = utils.to_categorical(y_test, num_classes = 10) # one-hot encoding"
   ]
  },
  {
   "cell_type": "code",
   "execution_count": 4,
   "metadata": {},
   "outputs": [
    {
     "name": "stdout",
     "output_type": "stream",
     "text": [
      "Epoch 1/5\n",
      "60000/60000 [==============================] - 76s 1ms/sample - loss: 0.1522 - acc: 0.9535\n",
      "Epoch 2/5\n",
      "60000/60000 [==============================] - 75s 1ms/sample - loss: 0.0623 - acc: 0.9817\n",
      "Epoch 3/5\n",
      "60000/60000 [==============================] - 76s 1ms/sample - loss: 0.0460 - acc: 0.9862\n",
      "Epoch 4/5\n",
      "60000/60000 [==============================] - 77s 1ms/sample - loss: 0.0359 - acc: 0.9890\n",
      "Epoch 5/5\n",
      "60000/60000 [==============================] - 75s 1ms/sample - loss: 0.0307 - acc: 0.9907\n",
      "10000/10000 [==============================] - 2s 197us/sample - loss: 0.0511 - acc: 0.9859\n"
     ]
    },
    {
     "data": {
      "text/plain": [
       "[0.05105495335866217, 0.9859]"
      ]
     },
     "execution_count": 4,
     "metadata": {},
     "output_type": "execute_result"
    }
   ],
   "source": [
    "# build cnn network\n",
    "model = tf.keras.models.Sequential([\n",
    "    layers.Convolution2D(filters=32, kernel_size=[5, 5],\n",
    "                  padding='same', activation = 'relu',\n",
    "                  input_shape=(1, 28, 28)),\n",
    "    layers.MaxPooling2D(pool_size=(2, 2), strides=(2, 2), padding='same'),\n",
    "    layers.Convolution2D(filters=128, kernel_size=[3,3],\n",
    "                  padding='same', activation = 'relu'),\n",
    "    layers.MaxPooling2D(pool_size=(2, 2), strides=(1, 1), padding='same'),\n",
    "    layers.Flatten(),\n",
    "    layers.Dense(1024, activation='relu'),\n",
    "    layers.Dense(128, activation='relu'),\n",
    "    layers.Dense(10, activation='softmax')\n",
    "])\n",
    "\n",
    "# compile model\n",
    "model.compile(optimizer='adam', \n",
    "             loss='categorical_crossentropy',\n",
    "             metrics=['accuracy'])\n",
    "\n",
    "model.fit(x_train, y_train_oh, epochs=5, batch_size=None) # If unspecified, batch_size will default to 32.\n",
    "model.evaluate(x_test, y_test_oh)"
   ]
  }
 ],
 "metadata": {
  "kernelspec": {
   "display_name": "Python 3",
   "language": "python",
   "name": "python3"
  },
  "language_info": {
   "codemirror_mode": {
    "name": "ipython",
    "version": 3
   },
   "file_extension": ".py",
   "mimetype": "text/x-python",
   "name": "python",
   "nbconvert_exporter": "python",
   "pygments_lexer": "ipython3",
   "version": "3.7.1"
  }
 },
 "nbformat": 4,
 "nbformat_minor": 2
}
