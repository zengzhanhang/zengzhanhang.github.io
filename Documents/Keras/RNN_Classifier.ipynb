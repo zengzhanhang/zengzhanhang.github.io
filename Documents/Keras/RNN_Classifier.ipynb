{
 "cells": [
  {
   "cell_type": "code",
   "execution_count": 1,
   "metadata": {},
   "outputs": [],
   "source": [
    "import numpy as np\n",
    "import matplotlib.pyplot as plt\n",
    "import cv2 as cv\n",
    "import tensorflow as tf\n",
    "from tensorflow.keras import layers\n",
    "from tensorflow.keras import optimizers\n",
    "from tensorflow.keras import utils\n",
    "from tqdm import tqdm"
   ]
  },
  {
   "cell_type": "code",
   "execution_count": 2,
   "metadata": {},
   "outputs": [],
   "source": [
    "# load data\n",
    "mnist = tf.keras.datasets.mnist\n",
    "(x_train, y_train),(x_test, y_test) = mnist.load_data()\n",
    "\n",
    "# prepare data\n",
    "x_train, x_test = x_train / 255.0, x_test / 255.0 # normalize\n",
    "x_train = x_train.reshape(-1, 28, 28)\n",
    "x_test = x_test.reshape(-1, 28, 28)\n",
    "y_train_oh = utils.to_categorical(y_train, num_classes = 10) # one-hot encoding\n",
    "y_test_oh = utils.to_categorical(y_test, num_classes = 10) # one-hot encoding"
   ]
  },
  {
   "cell_type": "code",
   "execution_count": 10,
   "metadata": {},
   "outputs": [
    {
     "name": "stdout",
     "output_type": "stream",
     "text": [
      "test cost:  2.275296926498413 test accuracy:  0.1778\n",
      "test cost:  0.3357826769351959 test accuracy:  0.9023\n",
      "test cost:  0.2307487279176712 test accuracy:  0.9347\n",
      "test cost:  0.18899917602539062 test accuracy:  0.9472\n",
      "test cost:  0.16296234726905823 test accuracy:  0.9533\n",
      "test cost:  0.16683271527290344 test accuracy:  0.9528\n",
      "test cost:  0.14237910509109497 test accuracy:  0.9608\n",
      "test cost:  0.15203972160816193 test accuracy:  0.96\n",
      "test cost:  0.14567141234874725 test accuracy:  0.9592\n",
      "test cost:  0.13654865324497223 test accuracy:  0.9628\n",
      "test cost:  0.1286523938179016 test accuracy:  0.9651\n"
     ]
    }
   ],
   "source": [
    "TIME_STEP = 28 # same sa the height of image\n",
    "INPUT_SIZE = 28 # same as the width of image\n",
    "BATCH_SIZE = 256\n",
    "BATCH_INDEX = 0\n",
    "OUTPUT_SIZE = 10 # one-hot\n",
    "CELL_SIZE = 50 # number of hidden units\n",
    "LR = 0.001\n",
    "\n",
    "# build RNN model\n",
    "model = tf.keras.models.Sequential([\n",
    "    layers.SimpleRNN(CELL_SIZE, activation='tanh'),\n",
    "    # output layer\n",
    "    layers.Dense(OUTPUT_SIZE, activation='softmax')\n",
    "])\n",
    "\n",
    "# specified optimizer\n",
    "adam = optimizers.Adam(LR)\n",
    "# compile model\n",
    "model.compile(optimizer=adam, \n",
    "             loss='categorical_crossentropy',\n",
    "             metrics=['accuracy'])\n",
    "\n",
    "# start to train model\n",
    "for step in range(10001):\n",
    "    x_batch = x_train[BATCH_INDEX: BATCH_INDEX+BATCH_SIZE, :, :]\n",
    "    y_batch = y_train_oh[BATCH_INDEX: BATCH_INDEX+BATCH_SIZE, :]\n",
    "    cost = model.train_on_batch(x_batch, y_batch)\n",
    "    \n",
    "    BATCH_INDEX += BATCH_SIZE\n",
    "    BATCH_INDEX = 0 if BATCH_INDEX >= x_train.shape[0] else BATCH_INDEX\n",
    "    \n",
    "    if step % 1000 == 0:\n",
    "        cost, acc = model.evaluate(x_test, y_test_oh, batch_size=y_test.shape[0], verbose=False)\n",
    "        print('test cost: ', cost, 'test accuracy: ', acc)\n"
   ]
  },
  {
   "cell_type": "code",
   "execution_count": null,
   "metadata": {},
   "outputs": [],
   "source": [
    "model.fit(x_train, y_train_oh, epochs=5, batch_size=None) # If unspecified, batch_size will default to 32.\n",
    "model.evaluate(x_test, y_test_oh)"
   ]
  }
 ],
 "metadata": {
  "kernelspec": {
   "display_name": "Python 3",
   "language": "python",
   "name": "python3"
  },
  "language_info": {
   "codemirror_mode": {
    "name": "ipython",
    "version": 3
   },
   "file_extension": ".py",
   "mimetype": "text/x-python",
   "name": "python",
   "nbconvert_exporter": "python",
   "pygments_lexer": "ipython3",
   "version": "3.7.1"
  }
 },
 "nbformat": 4,
 "nbformat_minor": 2
}
